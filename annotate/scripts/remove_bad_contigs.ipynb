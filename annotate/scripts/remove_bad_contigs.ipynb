{
 "cells": [
  {
   "cell_type": "code",
   "execution_count": 3,
   "metadata": {},
   "outputs": [],
   "source": [
    "import pandas as pd\n",
    "from Bio import SeqIO \n",
    "import os"
   ]
  },
  {
   "cell_type": "code",
   "execution_count": 6,
   "metadata": {},
   "outputs": [
    {
     "name": "stdout",
     "output_type": "stream",
     "text": [
      "['JAAAJI144.1', 'JAAAJI155.1', 'JAAAJI197.1']\n",
      "[]\n",
      "['JAAAJM12.1', 'JAAAJM119.1', 'JAAAJM128.1']\n",
      "['JAAAJM12.1', 'JAAAJM119.1', 'JAAAJM128.1']\n",
      "['BCHZ113.1', 'BCHZ125.1', 'BCHZ135.1']\n",
      "['KN847455.1']\n"
     ]
    }
   ],
   "source": [
    "path=\"./logs\"\n",
    "contig_list = []\n",
    "contig_dict = {}\n",
    "for file in os.listdir(path):\n",
    "    if file.endswith(\".log\"):\n",
    "        # Read in each of the files\n",
    "        with open(os.path.join(path, file), \"r\") as f_in:\n",
    "            contents = f_in.read()\n",
    "            # Check if the file contains the string \"bad contigs, where alphabet is less than 4\"\n",
    "            if \"bad contigs, where alphabet is less than 4\" in contents:\n",
    "                bad_contigs = contents\n",
    "                # Add the contents to the dictionary\n",
    "                contig_dict[file] = contents\n",
    "                # extract the contig names\n",
    "                contig_names = []\n",
    "                lines = contents.split('\\n')\n",
    "                for line in lines:\n",
    "                    if line.startswith(\"JAAAJ\"):\n",
    "                        contig_names.append(line.strip())\n",
    "                    elif line.startswith(\"BCH\"):\n",
    "                        contig_names.append(line.strip())\n",
    "                    elif line.startswith(\"KN84\"):\n",
    "                        contig_names.append(line.strip())\n",
    "                print(contig_names)\n",
    "                contig_list.extend(contig_names)\n",
    "            "
   ]
  },
  {
   "cell_type": "code",
   "execution_count": null,
   "metadata": {},
   "outputs": [],
   "source": []
  },
  {
   "cell_type": "code",
   "execution_count": null,
   "metadata": {},
   "outputs": [],
   "source": []
  }
 ],
 "metadata": {
  "kernelspec": {
   "display_name": "Python 3",
   "language": "python",
   "name": "python3"
  },
  "language_info": {
   "codemirror_mode": {
    "name": "ipython",
    "version": 3
   },
   "file_extension": ".py",
   "mimetype": "text/x-python",
   "name": "python",
   "nbconvert_exporter": "python",
   "pygments_lexer": "ipython3",
   "version": "3.10.8"
  }
 },
 "nbformat": 4,
 "nbformat_minor": 2
}
