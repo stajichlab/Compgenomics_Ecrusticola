{
 "cells": [
  {
   "cell_type": "code",
   "execution_count": 3,
   "metadata": {},
   "outputs": [],
   "source": [
    "import pandas as pd\n",
    "from Bio import SeqIO \n",
    "import os"
   ]
  },
  {
   "cell_type": "code",
   "execution_count": 30,
   "metadata": {},
   "outputs": [
    {
     "name": "stdout",
     "output_type": "stream",
     "text": [
      "['JAAAJI144.1', 'JAAAJI155.1', 'JAAAJI197.1', 'JAAAJM12.1', 'JAAAJM119.1', 'JAAAJM128.1', 'JAAAJM12.1', 'JAAAJM119.1', 'JAAAJM128.1', 'BCHZ113.1', 'BCHZ125.1', 'BCHZ135.1', 'KN847455.1']\n"
     ]
    },
    {
     "data": {
      "text/plain": [
       "['JAAAJI144.1',\n",
       " 'JAAAJI155.1',\n",
       " 'JAAAJI197.1',\n",
       " 'JAAAJM12.1',\n",
       " 'JAAAJM119.1',\n",
       " 'JAAAJM128.1',\n",
       " 'JAAAJM12.1',\n",
       " 'JAAAJM119.1',\n",
       " 'JAAAJM128.1',\n",
       " 'BCHZ113.1',\n",
       " 'BCHZ125.1',\n",
       " 'BCHZ135.1',\n",
       " 'KN847455.1']"
      ]
     },
     "execution_count": 30,
     "metadata": {},
     "output_type": "execute_result"
    }
   ],
   "source": [
    "path = \"./logs\"\n",
    "def get_contig_names(path):\n",
    "    contig_list = []  # Initialize the contig list\n",
    "    for file in os.listdir(path):\n",
    "        if file.endswith(\".log\"):\n",
    "            with open(os.path.join(path, file), \"r\") as f_in:\n",
    "                contents = f_in.read()\n",
    "                if \"bad contigs, where alphabet is less than 4\" in contents:\n",
    "                    contig_names = []\n",
    "                    lines = contents.split('\\n')\n",
    "                    for line in lines:\n",
    "                        if any(line.startswith(prefix) for prefix in [\"JAAAJ\", \"BCH\", \"KN84\"]):\n",
    "                            contig_names.append(line.strip())\n",
    "                    contig_list.extend(contig_names)  # Extend the global list with found contig names\n",
    "    print(contig_list)  # Print the final contig list\n",
    "    return contig_list  # Return the contig list after processing all files\n",
    "\n",
    "\n",
    "get_contig_names(path)\n"
   ]
  },
  {
   "cell_type": "code",
   "execution_count": 33,
   "metadata": {},
   "outputs": [
    {
     "name": "stdout",
     "output_type": "stream",
     "text": [
      "Processing file: reformat_reformat_Exophiala_dermatitidis.fasta.masked, Number of records: 68\n",
      "Number of records after filtering: 64\n",
      "Processing file: reformat_reformat_Exophiala_sideris.fasta.masked, Number of records: 5\n",
      "Number of records after filtering: 5\n",
      "Processing file: Exophiala_oligosperma.fasta.masked, Number of records: 143\n",
      "Number of records after filtering: 142\n",
      "Processing file: reformat_Exophiala_sideris.fasta.masked, Number of records: 5\n",
      "Number of records after filtering: 5\n",
      "Processing file: reformat_reformat_Exophiala_alcalophila.fasta.masked, Number of records: 12\n",
      "Number of records after filtering: 12\n",
      "Processing file: reformat_Exophiala_alcalophila.fasta.masked, Number of records: 12\n",
      "Number of records after filtering: 12\n",
      "Processing file: Exophiala_sideris.fasta.masked, Number of records: 5\n",
      "Number of records after filtering: 5\n",
      "Processing file: reformat_Exophiala_viscosa.fasta.masked, Number of records: 30\n",
      "Number of records after filtering: 30\n",
      "Processing file: Exophiala_alcalophila.fasta.masked, Number of records: 12\n",
      "Number of records after filtering: 12\n",
      "Processing file: Exophiala_mesophila.fasta.masked, Number of records: 9\n",
      "Number of records after filtering: 9\n",
      "Processing file: reformat_Exophiala_phaeomuriformis.fasta.masked, Number of records: 100\n",
      "Number of records after filtering: 97\n",
      "Processing file: reformat_Exophiala_crusticola.fasta.masked, Number of records: 25\n",
      "Number of records after filtering: 25\n",
      "Processing file: Exophiala_phaeomuriformis.fasta.masked, Number of records: 100\n",
      "Number of records after filtering: 100\n",
      "Processing file: Exophiala_viscosa.fasta.masked, Number of records: 30\n",
      "Number of records after filtering: 30\n",
      "Processing file: Exophiala_xenobiotica.fasta.masked, Number of records: 15\n",
      "Number of records after filtering: 15\n",
      "Processing file: reformat_reformat_Exophiala_mesophila.fasta.masked, Number of records: 9\n",
      "Number of records after filtering: 9\n",
      "Processing file: reformat_Exophiala_spinifera.fasta.masked, Number of records: 28\n",
      "Number of records after filtering: 28\n",
      "Processing file: reformat_reformat_Exophiala_xenobiotica.fasta.masked, Number of records: 15\n",
      "Number of records after filtering: 15\n",
      "Processing file: reformat_Exophiala_lecanii-corni.fasta.masked, Number of records: 13\n",
      "Number of records after filtering: 13\n",
      "Processing file: Exophiala_lecanii-corni.fasta.masked, Number of records: 13\n",
      "Number of records after filtering: 13\n",
      "Processing file: reformat_reformat_Exophiala_crusticola.fasta.masked, Number of records: 25\n",
      "Number of records after filtering: 25\n",
      "Processing file: reformat_reformat_Exophiala_viscosa.fasta.masked, Number of records: 30\n",
      "Number of records after filtering: 30\n",
      "Processing file: reformat_Exophiala_calicioides.fasta.masked, Number of records: 37\n",
      "Number of records after filtering: 34\n",
      "Processing file: Exophiala_crusticola.fasta.masked, Number of records: 25\n",
      "Number of records after filtering: 25\n",
      "Processing file: reformat_Exophiala_oligosperma.fasta.masked, Number of records: 143\n",
      "Number of records after filtering: 142\n",
      "Processing file: reformat_Exophiala_bonariae.fasta.masked, Number of records: 178\n",
      "Number of records after filtering: 178\n",
      "Processing file: Exophiala_dermatitidis.fasta.masked, Number of records: 68\n",
      "Number of records after filtering: 68\n",
      "Processing file: reformat_reformat_Exophiala_oligosperma.fasta.masked, Number of records: 143\n",
      "Number of records after filtering: 142\n",
      "Processing file: Exophiala_bonariae.fasta.masked, Number of records: 178\n",
      "Number of records after filtering: 178\n",
      "Processing file: reformat_reformat_Exophiala_spinifera.fasta.masked, Number of records: 28\n",
      "Number of records after filtering: 28\n",
      "Processing file: reformat_Exophiala_dermatitidis.fasta.masked, Number of records: 68\n",
      "Number of records after filtering: 64\n",
      "Processing file: reformat_Exophiala_mesophila.fasta.masked, Number of records: 9\n",
      "Number of records after filtering: 9\n",
      "Processing file: reformat_Exophiala_xenobiotica.fasta.masked, Number of records: 15\n",
      "Number of records after filtering: 15\n",
      "Processing file: Exophiala_spinifera.fasta.masked, Number of records: 28\n",
      "Number of records after filtering: 28\n",
      "Processing file: reformat_reformat_Exophiala_lecanii-corni.fasta.masked, Number of records: 13\n",
      "Number of records after filtering: 13\n",
      "Processing file: Exophiala_calicioides.fasta.masked, Number of records: 37\n",
      "Number of records after filtering: 37\n"
     ]
    }
   ],
   "source": [
    "# Read in the fasta files in genomes directory and remove the contigs that are in the list\n",
    "path = \"./genomes\"\n",
    "for file in os.listdir(path):\n",
    "    if file.endswith(\"fasta.masked\"):\n",
    "        with open(os.path.join(path, file), \"r\") as f_in:\n",
    "            # Read in the fasta file\n",
    "            records = list(SeqIO.parse(f_in, \"fasta\"))\n",
    "            print(f\"Processing file: {file}, Number of records: {len(records)}\")  # Debugging\n",
    "            # Remove the contigs that are in the list\n",
    "            filtered_records = [record for record in records if record.id not in contig_list]\n",
    "            print(f\"Number of records after filtering: {len(filtered_records)}\")  # Debugging\n",
    "            # Write the new fasta file\n",
    "            with open(os.path.join(path, file.replace(\"fasta.masked\", \"masked_filtered.fasta\")), \"w\") as f_out:\n",
    "                SeqIO.write(filtered_records, f_out, \"fasta\")\n",
    "\n",
    "                "
   ]
  }
 ],
 "metadata": {
  "kernelspec": {
   "display_name": "Python 3",
   "language": "python",
   "name": "python3"
  },
  "language_info": {
   "codemirror_mode": {
    "name": "ipython",
    "version": 3
   },
   "file_extension": ".py",
   "mimetype": "text/x-python",
   "name": "python",
   "nbconvert_exporter": "python",
   "pygments_lexer": "ipython3",
   "version": "3.10.8"
  }
 },
 "nbformat": 4,
 "nbformat_minor": 2
}
