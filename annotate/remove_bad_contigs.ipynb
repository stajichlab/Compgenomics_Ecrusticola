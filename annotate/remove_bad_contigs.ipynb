{
 "cells": [
  {
   "cell_type": "code",
   "execution_count": 3,
   "metadata": {},
   "outputs": [],
   "source": [
    "import pandas as pd\n",
    "from Bio import SeqIO \n",
    "import os"
   ]
  },
  {
   "cell_type": "code",
   "execution_count": 11,
   "metadata": {},
   "outputs": [
    {
     "name": "stdout",
     "output_type": "stream",
     "text": [
      "['Exophiala_phaeomuriformis', 'JAAAJI144.1', 'JAAAJI155.1', 'JAAAJI197.1']\n",
      "['Exophiala_bonariae']\n",
      "['Exophiala_dermatitidis', 'JAAAJM12.1', 'JAAAJM119.1', 'JAAAJM128.1']\n",
      "['Exophiala_dermatitidis', 'JAAAJM12.1', 'JAAAJM119.1', 'JAAAJM128.1']\n",
      "['Exophiala_calicioides', 'BCHZ113.1', 'BCHZ125.1', 'BCHZ135.1']\n",
      "['Exophiala_oligosperma', 'KN847455.1']\n"
     ]
    }
   ],
   "source": [
    "path=\"./logs\"\n",
    "def get_contig_names(path):\n",
    "    for file in os.listdir(path):\n",
    "        if file.endswith(\".log\"):\n",
    "            # Read in each of the files\n",
    "            with open(os.path.join(path, file), \"r\") as f_in:\n",
    "                contents = f_in.read()\n",
    "                # Check if the file contains the string \"bad contigs, where alphabet is less than 4\"\n",
    "                if \"bad contigs, where alphabet is less than 4\" in contents:\n",
    "                    # extract the contig names, store them in a dictionary, with the file name as the key\n",
    "                    contig_names = []\n",
    "                    lines = contents.split('\\n')\n",
    "                    for line in lines:\n",
    "                        # extract the name of the sample from the file first\n",
    "                        if line.startswith(\"sample is\"):\n",
    "                            sample_name = line.split(\" \")[2]\n",
    "                            contig_names.append(sample_name)\n",
    "                        # Check the contig names in the file to determine the beginning of the contig names\n",
    "                        elif line.startswith(\"JAAAJ\"):\n",
    "                            contig_names.append(line.strip())\n",
    "                        elif line.startswith(\"BCH\"):\n",
    "                            contig_names.append(line.strip())\n",
    "                        elif line.startswith(\"KN84\"):\n",
    "                            contig_names.append(line.strip())\n",
    "                    print(contig_names)\n",
    "                    contig_list.extend(contig_names)\n",
    "get_contig_names(path)"
   ]
  },
  {
   "cell_type": "code",
   "execution_count": null,
   "metadata": {},
   "outputs": [],
   "source": [
    "# Read in the fasta files in genomes directory and remove the contigs that are in the list\n",
    "path = \"./genomes\"\n",
    "for file in os.listdir(path):\n",
    "    if file.endswith((\"masked.fasta\")):\n",
    "        with open(os.path.join(path, file), \"r\") as f_in:\n",
    "            # Read in the fasta file\n",
    "            records = list(SeqIO.parse(f_in, \"fasta\"))\n",
    "            # Remove the contigs that are in the list\n",
    "            records = [record for record in records if record.id not in contig_list]\n",
    "            # Write the new fasta file\n",
    "            with open(os.path.join(path, file.replace(\"masked.fasta\", \"masked_filtered.fasta\")), \"w\") as f_out:\n",
    "                SeqIO.write(records, f_out, \"fasta\")\n",
    "                "
   ]
  }
 ],
 "metadata": {
  "kernelspec": {
   "display_name": "Python 3",
   "language": "python",
   "name": "python3"
  },
  "language_info": {
   "codemirror_mode": {
    "name": "ipython",
    "version": 3
   },
   "file_extension": ".py",
   "mimetype": "text/x-python",
   "name": "python",
   "nbconvert_exporter": "python",
   "pygments_lexer": "ipython3",
   "version": "3.10.8"
  }
 },
 "nbformat": 4,
 "nbformat_minor": 2
}
